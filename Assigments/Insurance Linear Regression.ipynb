{
 "cells": [
  {
   "cell_type": "code",
   "execution_count": 1,
   "id": "1d135c97",
   "metadata": {},
   "outputs": [],
   "source": [
    "# Importing the libraries\n",
    "import numpy as np\n",
    "import matplotlib.pyplot as plt\n",
    "import pandas as pd\n",
    "import seaborn as sns\n",
    "%matplotlib inline\n"
   ]
  },
  {
   "cell_type": "code",
   "execution_count": 2,
   "id": "53afe053",
   "metadata": {},
   "outputs": [],
   "source": [
    "insurance_company = pd.read_csv('insuranceData.csv')"
   ]
  },
  {
   "cell_type": "code",
   "execution_count": 3,
   "id": "a0689feb",
   "metadata": {},
   "outputs": [],
   "source": [
    "# Statistical modeling\n",
    "import statsmodels.api as sm  \n",
    "from sklearn.linear_model import LinearRegression \n",
    "from sklearn.model_selection import train_test_split  \n",
    "from sklearn.metrics import mean_squared_error, r2_score  "
   ]
  },
  {
   "cell_type": "code",
   "execution_count": 5,
   "id": "259384c1",
   "metadata": {},
   "outputs": [
    {
     "name": "stdout",
     "output_type": "stream",
     "text": [
      "   children  smoker\n",
      "0         0       1\n",
      "1         1       0\n",
      "2         3       0\n",
      "3         0       0\n",
      "4         0       0\n",
      "   age     bmi  children  smoker      charges\n",
      "0   19  27.900         0       1  16884.92400\n",
      "1   18  33.770         1       0   1725.55230\n",
      "2   28  33.000         3       0   4449.46200\n",
      "3   33  22.705         0       0  21984.47061\n",
      "4   32  28.880         0       0   3866.85520\n"
     ]
    }
   ],
   "source": [
    "#Applying a LabelEncoder() to categorical data.\n",
    "import pandas as pd\n",
    "from sklearn.preprocessing import LabelEncoder\n",
    "\n",
    "#Loading Data\n",
    "df = pd.read_csv('insuranceData.csv')\n",
    "\n",
    "#Instantiate the encoder\n",
    "label_encoder = LabelEncoder()\n",
    "\n",
    "#Applying LabelEncoder to the 'smoker' column\n",
    "df['smoker'] = label_encoder.fit_transform(df['smoker'])\n",
    "\n",
    "#Shows the the transformed data\n",
    "print(df[['children', 'smoker']].head())\n",
    "\n",
    "print(df.head())"
   ]
  },
  {
   "cell_type": "code",
   "execution_count": 10,
   "id": "e474f9c5",
   "metadata": {},
   "outputs": [
    {
     "name": "stdout",
     "output_type": "stream",
     "text": [
      "   encoder__smoker_no  encoder__smoker_yes  remainder__age  remainder__bmi  \\\n",
      "0                 0.0                  1.0            19.0          27.900   \n",
      "1                 1.0                  0.0            18.0          33.770   \n",
      "2                 1.0                  0.0            28.0          33.000   \n",
      "3                 1.0                  0.0            33.0          22.705   \n",
      "4                 1.0                  0.0            32.0          28.880   \n",
      "\n",
      "   remainder__children  remainder__charges  \n",
      "0                  0.0         16884.92400  \n",
      "1                  1.0          1725.55230  \n",
      "2                  3.0          4449.46200  \n",
      "3                  0.0         21984.47061  \n",
      "4                  0.0          3866.85520  \n"
     ]
    }
   ],
   "source": [
    "import pandas as pd\n",
    "from sklearn.preprocessing import OneHotEncoder\n",
    "from sklearn.compose import ColumnTransformer\n",
    "\n",
    "# Load data\n",
    "df = pd.read_csv('insuranceData.csv')\n",
    "\n",
    "# Instantiate the OneHotEncoder\n",
    "# specifying the output to be an array, not a sparse matrix\n",
    "encoder = OneHotEncoder(sparse_output=False)  # Correct attribute usage\n",
    "\n",
    "# Create a column transformer to apply encoding only to the 'smoker' column\n",
    "ct = ColumnTransformer([(\"encoder\", encoder, ['smoker'])], remainder='passthrough')\n",
    "\n",
    "# Fit and transform the data\n",
    "df_encoded = ct.fit_transform(df)\n",
    "\n",
    "# Convert the array back to a dataframe, incorporating the new feature names from the encoder\n",
    "df_encoded = pd.DataFrame(df_encoded, columns=ct.get_feature_names_out())\n",
    "\n",
    "# transformed data\n",
    "print(df_encoded.head())"
   ]
  },
  {
   "cell_type": "code",
   "execution_count": 11,
   "id": "085cd669",
   "metadata": {},
   "outputs": [
    {
     "name": "stdout",
     "output_type": "stream",
     "text": [
      "Requirement already satisfied: scikit-learn in c:\\users\\lesha\\anaconda3\\lib\\site-packages (1.5.0)Note: you may need to restart the kernel to use updated packages.\n",
      "\n",
      "Requirement already satisfied: numpy>=1.19.5 in c:\\users\\lesha\\anaconda3\\lib\\site-packages (from scikit-learn) (1.26.4)\n",
      "Requirement already satisfied: scipy>=1.6.0 in c:\\users\\lesha\\anaconda3\\lib\\site-packages (from scikit-learn) (1.11.4)\n",
      "Requirement already satisfied: joblib>=1.2.0 in c:\\users\\lesha\\anaconda3\\lib\\site-packages (from scikit-learn) (1.2.0)\n",
      "Requirement already satisfied: threadpoolctl>=3.1.0 in c:\\users\\lesha\\anaconda3\\lib\\site-packages (from scikit-learn) (3.5.0)\n"
     ]
    }
   ],
   "source": [
    "pip install --upgrade scikit-learn"
   ]
  },
  {
   "cell_type": "code",
   "execution_count": 13,
   "id": "eabe4063",
   "metadata": {},
   "outputs": [
    {
     "name": "stdout",
     "output_type": "stream",
     "text": [
      "Training set size: (1137, 4)\n",
      "Testing set size: (201, 4)\n"
     ]
    }
   ],
   "source": [
    " # Define the features and the target\n",
    "X = df[['age', 'bmi', 'children', 'smoker']]  # Features\n",
    "y = df['charges']  # Target\n",
    "\n",
    "# Split the dataset into training and testing sets with 15% of the data as the test set\n",
    "X_train, X_test, y_train, y_test = train_test_split(X, y, test_size=0.15, random_state=42)\n",
    "\n",
    "# Output the shapes to confirm the split\n",
    "print(\"Training set size:\", X_train.shape)\n",
    "print(\"Testing set size:\", X_test.shape)"
   ]
  },
  {
   "cell_type": "code",
   "execution_count": null,
   "id": "f8f6016a",
   "metadata": {},
   "outputs": [],
   "source": []
  }
 ],
 "metadata": {
  "kernelspec": {
   "display_name": "Python 3 (ipykernel)",
   "language": "python",
   "name": "python3"
  },
  "language_info": {
   "codemirror_mode": {
    "name": "ipython",
    "version": 3
   },
   "file_extension": ".py",
   "mimetype": "text/x-python",
   "name": "python",
   "nbconvert_exporter": "python",
   "pygments_lexer": "ipython3",
   "version": "3.11.7"
  }
 },
 "nbformat": 4,
 "nbformat_minor": 5
}
